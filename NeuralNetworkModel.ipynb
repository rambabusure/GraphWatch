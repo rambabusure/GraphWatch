{
 "cells": [
  {
   "cell_type": "markdown",
   "metadata": {},
   "source": [
    "# Graph Watch  : Extracting  Data from Line Graph"
   ]
  },
  {
   "cell_type": "markdown",
   "metadata": {},
   "source": [
    "###### Importing  Python libraries  Numpy , matplotlib pandas"
   ]
  },
  {
   "cell_type": "code",
   "execution_count": 1,
   "metadata": {
    "collapsed": true
   },
   "outputs": [],
   "source": [
    "import datetime as datetime\n",
    "import numpy as np\n",
    "import matplotlib.pyplot as plt\n",
    "import matplotlib.dates as mdates\n",
    "import datetime as datetime\n",
    "import calendar"
   ]
  },
  {
   "cell_type": "markdown",
   "metadata": {},
   "source": [
    "###### Importing sklearn libraries"
   ]
  },
  {
   "cell_type": "code",
   "execution_count": 2,
   "metadata": {
    "collapsed": true
   },
   "outputs": [],
   "source": [
    "from sklearn.model_selection import StratifiedShuffleSplit\n",
    "from sklearn.preprocessing import LabelEncoder\n",
    "from sklearn.preprocessing import MinMaxScaler"
   ]
  },
  {
   "cell_type": "code",
   "execution_count": 3,
   "metadata": {},
   "outputs": [
    {
     "name": "stderr",
     "output_type": "stream",
     "text": [
      "/Users/Ram/anaconda/envs/Python3/lib/python3.5/site-packages/h5py/__init__.py:36: FutureWarning: Conversion of the second argument of issubdtype from `float` to `np.floating` is deprecated. In future, it will be treated as `np.float64 == np.dtype(float).type`.\n",
      "  from ._conv import register_converters as _register_converters\n",
      "Using TensorFlow backend.\n",
      "/Users/Ram/anaconda/envs/Python3/lib/python3.5/importlib/_bootstrap.py:222: RuntimeWarning: compiletime version 3.6 of module 'tensorflow.python.framework.fast_tensor_util' does not match runtime version 3.5\n",
      "  return f(*args, **kwds)\n"
     ]
    }
   ],
   "source": [
    "from keras.utils import to_categorical\n",
    "from keras.preprocessing import image\n",
    "from keras.layers import Input, Dense\n",
    "from keras.models import Model\n",
    "from keras.layers.convolutional import Conv2D\n",
    "from keras.layers import Flatten\n",
    "from keras.optimizers import Adam\n",
    "from keras.layers import Dropout\n",
    "from keras.layers import Flatten\n",
    "from keras.layers.convolutional import MaxPooling2D\n",
    "from keras import metrics"
   ]
  },
  {
   "cell_type": "markdown",
   "metadata": {
    "scrolled": false
   },
   "source": [
    "##### Load training data images "
   ]
  },
  {
   "cell_type": "code",
   "execution_count": 4,
   "metadata": {
    "collapsed": true
   },
   "outputs": [],
   "source": [
    "X_train_data = []\n",
    "y_trend =[]\n",
    "y_month  =[]\n",
    "y_startindex = []\n",
    "y_endindex = []\n",
    "def load_training_data():\n",
    "    for min_range in range(1,20000):\n",
    "        train_image = image.load_img('/trainindata/figure{}.png'.format(min_range),\n",
    "                                     target_size = (32, 32))\n",
    "        train_image = image.img_to_array(train_image)\n",
    "        X_train_data.append(train_image)"
   ]
  },
  {
   "cell_type": "code",
   "execution_count": 5,
   "metadata": {
    "collapsed": true
   },
   "outputs": [],
   "source": [
    "load_training_data()"
   ]
  },
  {
   "cell_type": "code",
   "execution_count": 8,
   "metadata": {},
   "outputs": [
    {
     "data": {
      "text/plain": [
       "array([[[255., 255., 255.],\n",
       "        [255., 255., 255.],\n",
       "        [255., 255., 255.],\n",
       "        ...,\n",
       "        [255., 255., 255.],\n",
       "        [255., 255., 255.],\n",
       "        [255., 255., 255.]],\n",
       "\n",
       "       [[255., 255., 255.],\n",
       "        [255., 255., 255.],\n",
       "        [255., 255., 255.],\n",
       "        ...,\n",
       "        [255., 255., 255.],\n",
       "        [255., 255., 255.],\n",
       "        [255., 255., 255.]],\n",
       "\n",
       "       [[255., 255., 255.],\n",
       "        [255., 255., 255.],\n",
       "        [255., 255., 255.],\n",
       "        ...,\n",
       "        [255., 255., 255.],\n",
       "        [255., 255., 255.],\n",
       "        [255., 255., 255.]],\n",
       "\n",
       "       ...,\n",
       "\n",
       "       [[255., 255., 255.],\n",
       "        [255., 255., 255.],\n",
       "        [255., 255., 255.],\n",
       "        ...,\n",
       "        [255., 255., 255.],\n",
       "        [255., 255., 255.],\n",
       "        [255., 255., 255.]],\n",
       "\n",
       "       [[255., 255., 255.],\n",
       "        [255., 255., 255.],\n",
       "        [255., 255., 255.],\n",
       "        ...,\n",
       "        [255., 255., 255.],\n",
       "        [255., 255., 255.],\n",
       "        [255., 255., 255.]],\n",
       "\n",
       "       [[255., 255., 255.],\n",
       "        [255., 255., 255.],\n",
       "        [255., 255., 255.],\n",
       "        ...,\n",
       "        [255., 255., 255.],\n",
       "        [255., 255., 255.],\n",
       "        [255., 255., 255.]]], dtype=float32)"
      ]
     },
     "execution_count": 8,
     "metadata": {},
     "output_type": "execute_result"
    }
   ],
   "source": [
    "X_train_data[0]"
   ]
  },
  {
   "cell_type": "markdown",
   "metadata": {},
   "source": [
    "###### Load the labels "
   ]
  },
  {
   "cell_type": "code",
   "execution_count": 6,
   "metadata": {
    "collapsed": true
   },
   "outputs": [],
   "source": [
    "y_trend=np.genfromtxt(\"/trainindata/y_trend.txt\",dtype='str')\n",
    "y_month=np.loadtxt(\"/trainindata/y_month.txt\",dtype='str')\n",
    "y_start=np.genfromtxt(\"/trainindata/y_start.txt\")\n",
    "y_end=np.loadtxt(\"/trainindata/y_end.txt\")"
   ]
  },
  {
   "cell_type": "code",
   "execution_count": 7,
   "metadata": {},
   "outputs": [
    {
     "data": {
      "text/plain": [
       "array(['Upward', 'Upward', 'Upward', 'Upward', 'Upward', 'Upward',\n",
       "       'Upward', 'Upward', 'Upward', 'Upward', 'Upward', 'Upward',\n",
       "       'Upward', 'Upward', 'Upward', 'Upward', 'Upward', 'Upward',\n",
       "       'Upward', 'Upward', 'Upward', 'Upward', 'Upward', 'Upward',\n",
       "       'Upward', 'Upward', 'Upward', 'Upward', 'Upward', 'Upward',\n",
       "       'Upward', 'Upward', 'Upward', 'Upward', 'Upward', 'Upward',\n",
       "       'Upward', 'Upward', 'Upward', 'Upward', 'Upward', 'Upward',\n",
       "       'Upward', 'Upward', 'Upward', 'Upward', 'Upward', 'Upward',\n",
       "       'Upward', 'Upward', 'Downward', 'Downward', 'Downward', 'Downward',\n",
       "       'Downward', 'Downward', 'Downward', 'Downward', 'Downward',\n",
       "       'Downward', 'Downward', 'Downward', 'Downward', 'Downward',\n",
       "       'Downward', 'Downward', 'Downward', 'Downward', 'Downward',\n",
       "       'Downward', 'Downward', 'Downward', 'Downward', 'Downward',\n",
       "       'Downward', 'Downward', 'Downward', 'Downward', 'Downward',\n",
       "       'Downward', 'Downward', 'Downward', 'Downward', 'Downward',\n",
       "       'Downward', 'Downward', 'Downward', 'Downward', 'Downward',\n",
       "       'Downward', 'Downward', 'Downward', 'Downward', 'Downward',\n",
       "       'Downward', 'Downward', 'Downward', 'Downward', 'Downward',\n",
       "       'Downward'], dtype='<U14')"
      ]
     },
     "execution_count": 7,
     "metadata": {},
     "output_type": "execute_result"
    }
   ],
   "source": [
    "y_trend[1950:2050]"
   ]
  },
  {
   "cell_type": "code",
   "execution_count": 8,
   "metadata": {},
   "outputs": [
    {
     "data": {
      "text/plain": [
       "array(['January', 'January', 'January', 'January', 'January', 'January',\n",
       "       'January', 'January', 'January', 'January', 'January', 'January',\n",
       "       'January', 'January', 'January', 'January', 'January', 'January',\n",
       "       'January', 'January', 'January', 'January', 'January', 'January',\n",
       "       'January', 'January', 'January', 'January', 'January', 'January',\n",
       "       'January', 'January', 'January', 'January', 'January', 'January',\n",
       "       'January', 'January', 'January', 'January', 'January', 'January',\n",
       "       'January', 'January', 'January', 'January', 'January', 'January',\n",
       "       'January', 'January', 'February', 'February', 'February',\n",
       "       'February', 'February', 'February', 'February', 'February',\n",
       "       'February', 'February', 'February', 'February', 'February',\n",
       "       'February', 'February', 'February', 'February', 'February',\n",
       "       'February', 'February', 'February', 'February', 'February',\n",
       "       'February', 'February', 'February', 'February', 'February',\n",
       "       'February', 'February', 'February', 'February', 'February',\n",
       "       'February', 'February', 'February', 'February', 'February',\n",
       "       'February', 'February', 'February', 'February', 'February',\n",
       "       'February', 'February', 'February', 'February', 'February',\n",
       "       'February', 'February'], dtype='<U8')"
      ]
     },
     "execution_count": 8,
     "metadata": {},
     "output_type": "execute_result"
    }
   ],
   "source": [
    "y_month[9950:10050]"
   ]
  },
  {
   "cell_type": "code",
   "execution_count": 9,
   "metadata": {},
   "outputs": [
    {
     "data": {
      "text/plain": [
       "array([20042.5, 20040.5, 20040.5, 20042.5, 20041.5, 20041.5, 20043.5,\n",
       "       20041.5, 20041.5, 20043.5, 20040.5, 20043.5, 20041.5, 20043.5,\n",
       "       20041.5, 20043.5, 20041.5, 20041.5, 20042.5, 20043.5, 20041.5,\n",
       "       20043.5, 20041.5, 20042.5, 20043.5, 20042.5, 20041.5, 20043.5,\n",
       "       20042.5, 20042.5, 20042.5, 20043.5, 20042.5, 20043.5, 20040.5,\n",
       "       20041.5, 20043.5, 20041.5, 20040.5, 20043.5, 20041.5, 20042.5,\n",
       "       20043.5, 20043.5, 20040.5, 20043.5, 20041.5, 20042.5, 20040.5,\n",
       "       20041.5, 19857.5, 19856.5, 19856.5, 19859.5, 19856.5, 19859.5,\n",
       "       19859.5, 19859.5, 19859.5, 19857.5, 19858.5, 19858.5, 19858.5,\n",
       "       19856.5, 19857.5, 19858.5, 19857.5, 19856.5, 19856.5, 19859.5,\n",
       "       19859.5, 19859.5, 19858.5, 19859.5, 19858.5, 19859.5, 19859.5,\n",
       "       19856.5, 19857.5, 19856.5, 19856.5, 19859.5, 19857.5, 19858.5,\n",
       "       19859.5, 19856.5, 19857.5, 19857.5, 19857.5, 19856.5, 19859.5,\n",
       "       19857.5, 19856.5, 19858.5, 19857.5, 19856.5, 19857.5, 19857.5,\n",
       "       19858.5, 19856.5])"
      ]
     },
     "execution_count": 9,
     "metadata": {},
     "output_type": "execute_result"
    }
   ],
   "source": [
    "y_start[9950:10050]"
   ]
  },
  {
   "cell_type": "code",
   "execution_count": 10,
   "metadata": {},
   "outputs": [
    {
     "data": {
      "text/plain": [
       "array([20013.5, 20009.5, 20008.5, 20002.5, 20003.5, 20029.5, 20013.5,\n",
       "       20009.5, 20018.5, 20030.5, 20018.5, 20003.5, 19999.5, 20027.5,\n",
       "       20024.5, 20006.5, 20019.5, 20003.5, 19996.5, 20024.5, 20003.5,\n",
       "       20024.5, 20006.5, 19995.5, 19994.5, 20018.5, 20012.5, 20010.5,\n",
       "       19997.5, 20015.5, 20027.5, 20004.5, 20001.5, 20002.5, 20011.5,\n",
       "       20015.5, 20001.5, 20008.5, 20006.5, 20003.5, 20000.5, 20031.5,\n",
       "       20004.5, 20016.5, 20021.5, 20006.5, 20010.5, 20011.5, 20004.5,\n",
       "       20003.5, 19952. , 19944. , 19951. , 19961. , 19949. , 19956. ,\n",
       "       19950. , 19960. , 19966. , 19943. , 19950. , 19952. , 19944. ,\n",
       "       19940. , 19963. , 19932. , 19946. , 19954. , 19950. , 19945. ,\n",
       "       19959. , 19966. , 19960. , 19922. , 19950. , 19960. , 19957. ,\n",
       "       19957. , 19952. , 19935. , 19943. , 19983. , 19956. , 19947. ,\n",
       "       19966. , 19981. , 19932. , 19937. , 19968. , 19955. , 19946. ,\n",
       "       19967. , 19930. , 19966. , 19953. , 19947. , 19952. , 19965. ,\n",
       "       19953. , 19946. ])"
      ]
     },
     "execution_count": 10,
     "metadata": {},
     "output_type": "execute_result"
    }
   ],
   "source": [
    "y_end[9950:10050]"
   ]
  },
  {
   "cell_type": "markdown",
   "metadata": {},
   "source": [
    "###### Split the data on index train data and test data"
   ]
  },
  {
   "cell_type": "code",
   "execution_count": 11,
   "metadata": {},
   "outputs": [
    {
     "name": "stdout",
     "output_type": "stream",
     "text": [
      "Shuffle Split\n",
      "Split is done\n"
     ]
    }
   ],
   "source": [
    "splits = 1\n",
    "shufflesplit = StratifiedShuffleSplit(n_splits=splits, random_state=42, test_size=5000)\n",
    "print(\"Shuffle Split\")\n",
    "for train_index, test_index in shufflesplit.split(X_train_data,y_trend):\n",
    "    print(\"Split is done\")"
   ]
  },
  {
   "cell_type": "markdown",
   "metadata": {},
   "source": [
    "###### Month and Trend are the two labels. We will apply encoder and do one hot encoding"
   ]
  },
  {
   "cell_type": "code",
   "execution_count": 12,
   "metadata": {
    "collapsed": true
   },
   "outputs": [],
   "source": [
    "# month encoding\n",
    "monthEncoder = LabelEncoder()\n",
    "monthEncoder.fit(y_month)\n",
    "encoded_Y_month = monthEncoder.transform(y_month)\n",
    "encoded_Y_month = to_categorical(encoded_Y_month)"
   ]
  },
  {
   "cell_type": "code",
   "execution_count": 13,
   "metadata": {
    "scrolled": true
   },
   "outputs": [
    {
     "data": {
      "text/plain": [
       "array([[0., 1.],\n",
       "       [0., 1.],\n",
       "       [0., 1.],\n",
       "       [0., 1.],\n",
       "       [0., 1.],\n",
       "       [0., 1.],\n",
       "       [0., 1.],\n",
       "       [0., 1.],\n",
       "       [0., 1.],\n",
       "       [0., 1.],\n",
       "       [1., 0.],\n",
       "       [1., 0.],\n",
       "       [1., 0.],\n",
       "       [1., 0.],\n",
       "       [1., 0.],\n",
       "       [1., 0.],\n",
       "       [1., 0.],\n",
       "       [1., 0.],\n",
       "       [1., 0.],\n",
       "       [1., 0.]])"
      ]
     },
     "execution_count": 13,
     "metadata": {},
     "output_type": "execute_result"
    }
   ],
   "source": [
    "encoded_Y_month[9990:10010]"
   ]
  },
  {
   "cell_type": "code",
   "execution_count": 14,
   "metadata": {
    "collapsed": true
   },
   "outputs": [],
   "source": [
    "# trend encoding\n",
    "trendEncoder = LabelEncoder()\n",
    "trendEncoder.fit(y_trend)\n",
    "encoded_Y_trend = trendEncoder.transform(y_trend)\n",
    "encoded_Y_trend = to_categorical(encoded_Y_trend)"
   ]
  },
  {
   "cell_type": "code",
   "execution_count": 15,
   "metadata": {},
   "outputs": [
    {
     "data": {
      "text/plain": [
       "array([[0., 1., 0., 0., 0.],\n",
       "       [0., 1., 0., 0., 0.],\n",
       "       [0., 1., 0., 0., 0.],\n",
       "       [0., 1., 0., 0., 0.],\n",
       "       [0., 1., 0., 0., 0.],\n",
       "       [0., 1., 0., 0., 0.],\n",
       "       [0., 1., 0., 0., 0.],\n",
       "       [0., 1., 0., 0., 0.],\n",
       "       [0., 1., 0., 0., 0.],\n",
       "       [0., 1., 0., 0., 0.],\n",
       "       [0., 0., 0., 1., 0.],\n",
       "       [0., 0., 0., 1., 0.],\n",
       "       [0., 0., 0., 1., 0.],\n",
       "       [0., 0., 0., 1., 0.],\n",
       "       [0., 0., 0., 1., 0.],\n",
       "       [0., 0., 0., 1., 0.],\n",
       "       [0., 0., 0., 1., 0.],\n",
       "       [0., 0., 0., 1., 0.],\n",
       "       [0., 0., 0., 1., 0.],\n",
       "       [0., 0., 0., 1., 0.]])"
      ]
     },
     "execution_count": 15,
     "metadata": {},
     "output_type": "execute_result"
    }
   ],
   "source": [
    "encoded_Y_trend[9990:10010]"
   ]
  },
  {
   "cell_type": "markdown",
   "metadata": {},
   "source": [
    "###### Transforms Start and end index by scaling "
   ]
  },
  {
   "cell_type": "code",
   "execution_count": 16,
   "metadata": {
    "collapsed": true
   },
   "outputs": [],
   "source": [
    "startScalar = MinMaxScaler()\n",
    "startScalar.fit(y_start.reshape(-1,1))\n",
    "encoded_Y_start = startScalar.transform(y_start.reshape(-1,1))\n"
   ]
  },
  {
   "cell_type": "code",
   "execution_count": 17,
   "metadata": {},
   "outputs": [
    {
     "data": {
      "text/plain": [
       "array([[0.65202703],\n",
       "       [0.65202703],\n",
       "       [0.65540541],\n",
       "       [0.66216216],\n",
       "       [0.65540541],\n",
       "       [0.66216216],\n",
       "       [0.65878378],\n",
       "       [0.65540541],\n",
       "       [0.66216216],\n",
       "       [0.65202703]])"
      ]
     },
     "execution_count": 17,
     "metadata": {},
     "output_type": "execute_result"
    }
   ],
   "source": [
    "encoded_Y_start[9910:9920]"
   ]
  },
  {
   "cell_type": "code",
   "execution_count": 18,
   "metadata": {
    "collapsed": true
   },
   "outputs": [],
   "source": [
    "endScalar = MinMaxScaler()\n",
    "endScalar.fit(y_end.reshape(-1,1))\n",
    "encoded_Y_end = endScalar.transform(y_end.reshape(-1, 1))\n"
   ]
  },
  {
   "cell_type": "code",
   "execution_count": 19,
   "metadata": {},
   "outputs": [
    {
     "data": {
      "text/plain": [
       "array([[0.15284553],\n",
       "       [0.19512195],\n",
       "       [0.14308943],\n",
       "       [0.1300813 ],\n",
       "       [0.11707317],\n",
       "       [0.10081301],\n",
       "       [0.12357724],\n",
       "       [0.17886179],\n",
       "       [0.15284553],\n",
       "       [0.12357724]])"
      ]
     },
     "execution_count": 19,
     "metadata": {},
     "output_type": "execute_result"
    }
   ],
   "source": [
    "encoded_Y_end[4500:4510]"
   ]
  },
  {
   "cell_type": "markdown",
   "metadata": {},
   "source": [
    "### Get Training and Test data based on split index"
   ]
  },
  {
   "cell_type": "code",
   "execution_count": 20,
   "metadata": {
    "collapsed": true
   },
   "outputs": [],
   "source": [
    "X_train_input = np.asarray(X_train_data)\n",
    "\n",
    "X_train = np.asarray(X_train_input[train_index]).transpose(0,3,2,1)\n",
    "X_test = np.asarray(X_train_input[test_index]).transpose(0,3,2,1)\n",
    "#trend\n",
    "y_trend_train =  np.asarray(encoded_Y_trend[train_index])\n",
    "y_trend_test =  np.asarray(encoded_Y_trend[test_index])\n",
    "\n",
    "# month\n",
    "y_month_train =  np.asarray(encoded_Y_month[train_index])\n",
    "y_month_test =  np.asarray(encoded_Y_month[test_index])\n",
    "#start\n",
    "y_start_train =  np.asarray(encoded_Y_start.reshape(-1,1)[train_index])\n",
    "y_start_test =  np.asarray(encoded_Y_start.reshape(-1,1)[test_index])\n",
    "#end\n",
    "y_end_train =  np.asarray(encoded_Y_end.reshape(-1,1)[train_index])\n",
    "y_end_test =  np.asarray(encoded_Y_end.reshape(-1,1)[test_index])\n"
   ]
  },
  {
   "cell_type": "markdown",
   "metadata": {},
   "source": [
    "#### Build the  Keras Functional Model  which has multiple outputs with multiple loss functions and metrics\n"
   ]
  },
  {
   "cell_type": "markdown",
   "metadata": {},
   "source": [
    "###### Model with Adam Optimizer"
   ]
  },
  {
   "cell_type": "code",
   "execution_count": 21,
   "metadata": {
    "collapsed": true
   },
   "outputs": [],
   "source": [
    "input_img = Input((3,32,32))\n",
    "output_layer_img = Conv2D(32, (3, 3), input_shape=(3,32,32), activation='relu', padding='same')(input_img)\n",
    "output_layer_img = Dropout(0.2)(output_layer_img)\n",
    "output_layer_img = Conv2D(32, (3, 3), activation='relu', padding='same')(output_layer_img)\n",
    "output_layer_img = MaxPooling2D(pool_size=(2, 2))(output_layer_img)\n",
    "output_layer_img = Conv2D(64, (3, 3),  activation='relu', padding='same')(output_layer_img)\n",
    "output_layer_img = Dropout(0.2)(output_layer_img)\n",
    "output_layer_img = Conv2D(64, (3, 3),  activation='relu', padding='same')(output_layer_img)\n",
    "output_layer_img = Conv2D(128, (3, 3),  activation='relu', padding='same')(output_layer_img)\n",
    "output_layer_img = Flatten()(output_layer_img)\n",
    "output_layer_img = Dropout(0.2)(output_layer_img)\n",
    "output_layer_img = Dense(1024, activation='relu')(output_layer_img)\n",
    "output_layer_img = Dropout(0.2)(output_layer_img)\n",
    "output_layer_img = Dense(512, activation='relu')(output_layer_img)\n",
    "output_layer_img = Dropout(0.2)(output_layer_img)\n",
    "y_start_output = Dense(1, name='start', activation='sigmoid')(output_layer_img)\n",
    "y_end_output= Dense(1, name='end', activation='sigmoid')(output_layer_img)\n",
    "y_trend_output = Dense(5, activation='softmax', name='trend')(output_layer_img)\n",
    "y_month_output = Dense(2, activation='softmax', name='month')(output_layer_img)\n",
    "\n",
    "model = Model([input_img], [y_start_output,y_end_output,y_trend_output,y_month_output])\n",
    "\n",
    "adamOptimizer = Adam(lr=0.001, beta_1=0.9, beta_2=0.999, epsilon=None, decay=0.0, amsgrad=False)\n",
    "\n",
    "# compile the model with  multiple loss functions and metric\n",
    "model.compile(optimizer= adamOptimizer, loss={'start':'mse','end':'mse', 'trend':'categorical_crossentropy',\n",
    "                                              'month':'binary_crossentropy'}, \n",
    "             metrics={'start':'mse','end':'mse','trend':'accuracy','month':'binary_accuracy'},\n",
    "       loss_weights=[0.001,0.001, 1.,1.]) #adjust loss-Weights \n"
   ]
  },
  {
   "cell_type": "code",
   "execution_count": 22,
   "metadata": {},
   "outputs": [
    {
     "name": "stdout",
     "output_type": "stream",
     "text": [
      "__________________________________________________________________________________________________\n",
      "Layer (type)                    Output Shape         Param #     Connected to                     \n",
      "==================================================================================================\n",
      "input_1 (InputLayer)            (None, 3, 32, 32)    0                                            \n",
      "__________________________________________________________________________________________________\n",
      "conv2d_1 (Conv2D)               (None, 3, 32, 32)    9248        input_1[0][0]                    \n",
      "__________________________________________________________________________________________________\n",
      "dropout_1 (Dropout)             (None, 3, 32, 32)    0           conv2d_1[0][0]                   \n",
      "__________________________________________________________________________________________________\n",
      "conv2d_2 (Conv2D)               (None, 3, 32, 32)    9248        dropout_1[0][0]                  \n",
      "__________________________________________________________________________________________________\n",
      "max_pooling2d_1 (MaxPooling2D)  (None, 1, 16, 32)    0           conv2d_2[0][0]                   \n",
      "__________________________________________________________________________________________________\n",
      "conv2d_3 (Conv2D)               (None, 1, 16, 64)    18496       max_pooling2d_1[0][0]            \n",
      "__________________________________________________________________________________________________\n",
      "dropout_2 (Dropout)             (None, 1, 16, 64)    0           conv2d_3[0][0]                   \n",
      "__________________________________________________________________________________________________\n",
      "conv2d_4 (Conv2D)               (None, 1, 16, 64)    36928       dropout_2[0][0]                  \n",
      "__________________________________________________________________________________________________\n",
      "conv2d_5 (Conv2D)               (None, 1, 16, 128)   73856       conv2d_4[0][0]                   \n",
      "__________________________________________________________________________________________________\n",
      "flatten_1 (Flatten)             (None, 2048)         0           conv2d_5[0][0]                   \n",
      "__________________________________________________________________________________________________\n",
      "dropout_3 (Dropout)             (None, 2048)         0           flatten_1[0][0]                  \n",
      "__________________________________________________________________________________________________\n",
      "dense_1 (Dense)                 (None, 1024)         2098176     dropout_3[0][0]                  \n",
      "__________________________________________________________________________________________________\n",
      "dropout_4 (Dropout)             (None, 1024)         0           dense_1[0][0]                    \n",
      "__________________________________________________________________________________________________\n",
      "dense_2 (Dense)                 (None, 512)          524800      dropout_4[0][0]                  \n",
      "__________________________________________________________________________________________________\n",
      "dropout_5 (Dropout)             (None, 512)          0           dense_2[0][0]                    \n",
      "__________________________________________________________________________________________________\n",
      "start (Dense)                   (None, 1)            513         dropout_5[0][0]                  \n",
      "__________________________________________________________________________________________________\n",
      "end (Dense)                     (None, 1)            513         dropout_5[0][0]                  \n",
      "__________________________________________________________________________________________________\n",
      "trend (Dense)                   (None, 5)            2565        dropout_5[0][0]                  \n",
      "__________________________________________________________________________________________________\n",
      "month (Dense)                   (None, 2)            1026        dropout_5[0][0]                  \n",
      "==================================================================================================\n",
      "Total params: 2,775,369\n",
      "Trainable params: 2,775,369\n",
      "Non-trainable params: 0\n",
      "__________________________________________________________________________________________________\n"
     ]
    }
   ],
   "source": [
    "model.summary()"
   ]
  },
  {
   "cell_type": "markdown",
   "metadata": {},
   "source": [
    "###### Fit the model"
   ]
  },
  {
   "cell_type": "code",
   "execution_count": 23,
   "metadata": {},
   "outputs": [
    {
     "name": "stdout",
     "output_type": "stream",
     "text": [
      "Train on 14999 samples, validate on 5000 samples\n",
      "Epoch 1/10\n",
      "14999/14999 [==============================] - 11s 731us/step - loss: 2.7496 - start_loss: 0.1980 - end_loss: 0.0854 - trend_loss: 2.0089 - month_loss: 0.7404 - start_mean_squared_error: 0.1980 - end_mean_squared_error: 0.0854 - trend_acc: 0.2013 - month_binary_accuracy: 0.7348 - val_loss: 1.6197 - val_start_loss: 0.1600 - val_end_loss: 0.0651 - val_trend_loss: 1.6188 - val_month_loss: 7.1779e-04 - val_start_mean_squared_error: 0.1600 - val_end_mean_squared_error: 0.0651 - val_trend_acc: 0.1936 - val_month_binary_accuracy: 1.0000\n",
      "Epoch 2/10\n",
      "14999/14999 [==============================] - 11s 727us/step - loss: 1.6214 - start_loss: 0.1601 - end_loss: 0.0655 - trend_loss: 1.6113 - month_loss: 0.0098 - start_mean_squared_error: 0.1601 - end_mean_squared_error: 0.0655 - trend_acc: 0.2265 - month_binary_accuracy: 0.9991 - val_loss: 1.6179 - val_start_loss: 0.1576 - val_end_loss: 0.0639 - val_trend_loss: 1.6168 - val_month_loss: 8.8398e-04 - val_start_mean_squared_error: 0.1576 - val_end_mean_squared_error: 0.0639 - val_trend_acc: 0.2454 - val_month_binary_accuracy: 1.0000\n",
      "Epoch 3/10\n",
      "14999/14999 [==============================] - 11s 736us/step - loss: 1.5888 - start_loss: 0.1566 - end_loss: 0.0648 - trend_loss: 1.5779 - month_loss: 0.0107 - start_mean_squared_error: 0.1566 - end_mean_squared_error: 0.0648 - trend_acc: 0.2551 - month_binary_accuracy: 0.9987 - val_loss: 1.4390 - val_start_loss: 0.1401 - val_end_loss: 0.0581 - val_trend_loss: 1.4380 - val_month_loss: 7.2989e-04 - val_start_mean_squared_error: 0.1401 - val_end_mean_squared_error: 0.0581 - val_trend_acc: 0.3940 - val_month_binary_accuracy: 1.0000\n",
      "Epoch 4/10\n",
      "14999/14999 [==============================] - 11s 751us/step - loss: 1.4944 - start_loss: 0.1454 - end_loss: 0.0596 - trend_loss: 1.4837 - month_loss: 0.0104 - start_mean_squared_error: 0.1454 - end_mean_squared_error: 0.0596 - trend_acc: 0.3304 - month_binary_accuracy: 0.9986 - val_loss: 1.2600 - val_start_loss: 0.1207 - val_end_loss: 0.0493 - val_trend_loss: 1.2577 - val_month_loss: 0.0022 - val_start_mean_squared_error: 0.1207 - val_end_mean_squared_error: 0.0493 - val_trend_acc: 0.4788 - val_month_binary_accuracy: 0.9998\n",
      "Epoch 5/10\n",
      "14999/14999 [==============================] - 11s 739us/step - loss: 1.2546 - start_loss: 0.1104 - end_loss: 0.0501 - trend_loss: 1.2386 - month_loss: 0.0159 - start_mean_squared_error: 0.1104 - end_mean_squared_error: 0.0501 - trend_acc: 0.4674 - month_binary_accuracy: 0.9953 - val_loss: 1.0386 - val_start_loss: 0.0817 - val_end_loss: 0.0371 - val_trend_loss: 1.0353 - val_month_loss: 0.0032 - val_start_mean_squared_error: 0.0817 - val_end_mean_squared_error: 0.0371 - val_trend_acc: 0.6438 - val_month_binary_accuracy: 1.0000\n",
      "Epoch 6/10\n",
      "14999/14999 [==============================] - 12s 769us/step - loss: 1.0159 - start_loss: 0.0720 - end_loss: 0.0391 - trend_loss: 0.9904 - month_loss: 0.0254 - start_mean_squared_error: 0.0720 - end_mean_squared_error: 0.0391 - trend_acc: 0.5797 - month_binary_accuracy: 0.9916 - val_loss: 0.7415 - val_start_loss: 0.0381 - val_end_loss: 0.0247 - val_trend_loss: 0.7394 - val_month_loss: 0.0020 - val_start_mean_squared_error: 0.0381 - val_end_mean_squared_error: 0.0247 - val_trend_acc: 0.7150 - val_month_binary_accuracy: 0.9996\n",
      "Epoch 7/10\n",
      "14999/14999 [==============================] - 11s 748us/step - loss: 0.8786 - start_loss: 0.0515 - end_loss: 0.0320 - trend_loss: 0.8551 - month_loss: 0.0235 - start_mean_squared_error: 0.0515 - end_mean_squared_error: 0.0320 - trend_acc: 0.6392 - month_binary_accuracy: 0.9922 - val_loss: 0.7833 - val_start_loss: 0.0508 - val_end_loss: 0.0294 - val_trend_loss: 0.7776 - val_month_loss: 0.0056 - val_start_mean_squared_error: 0.0508 - val_end_mean_squared_error: 0.0294 - val_trend_acc: 0.6912 - val_month_binary_accuracy: 0.9982\n",
      "Epoch 8/10\n",
      "14999/14999 [==============================] - 11s 754us/step - loss: 0.8435 - start_loss: 0.0482 - end_loss: 0.0303 - trend_loss: 0.8120 - month_loss: 0.0314 - start_mean_squared_error: 0.0482 - end_mean_squared_error: 0.0303 - trend_acc: 0.6586 - month_binary_accuracy: 0.9901 - val_loss: 0.6063 - val_start_loss: 0.0281 - val_end_loss: 0.0204 - val_trend_loss: 0.6058 - val_month_loss: 4.5772e-04 - val_start_mean_squared_error: 0.0281 - val_end_mean_squared_error: 0.0204 - val_trend_acc: 0.7590 - val_month_binary_accuracy: 1.0000\n",
      "Epoch 9/10\n",
      "14999/14999 [==============================] - 12s 792us/step - loss: 0.7201 - start_loss: 0.0349 - end_loss: 0.0259 - trend_loss: 0.6979 - month_loss: 0.0222 - start_mean_squared_error: 0.0349 - end_mean_squared_error: 0.0259 - trend_acc: 0.7126 - month_binary_accuracy: 0.9930 - val_loss: 0.5276 - val_start_loss: 0.0189 - val_end_loss: 0.0181 - val_trend_loss: 0.5263 - val_month_loss: 0.0013 - val_start_mean_squared_error: 0.0189 - val_end_mean_squared_error: 0.0181 - val_trend_acc: 0.8000 - val_month_binary_accuracy: 0.9998\n",
      "Epoch 10/10\n",
      "14999/14999 [==============================] - 12s 798us/step - loss: 0.6886 - start_loss: 0.0319 - end_loss: 0.0244 - trend_loss: 0.6640 - month_loss: 0.0246 - start_mean_squared_error: 0.0319 - end_mean_squared_error: 0.0244 - trend_acc: 0.7279 - month_binary_accuracy: 0.9922 - val_loss: 0.5490 - val_start_loss: 0.0224 - val_end_loss: 0.0179 - val_trend_loss: 0.5480 - val_month_loss: 9.6238e-04 - val_start_mean_squared_error: 0.0224 - val_end_mean_squared_error: 0.0179 - val_trend_acc: 0.7776 - val_month_binary_accuracy: 1.0000\n"
     ]
    }
   ],
   "source": [
    "history = model.fit(X_train, [y_start_train,y_end_train,y_trend_train,y_month_train], batch_size=200, epochs=10, \n",
    "       validation_data=(X_test, [y_start_test,y_end_test,y_trend_test,y_month_test]))"
   ]
  },
  {
   "cell_type": "markdown",
   "metadata": {},
   "source": [
    "##### Prediction"
   ]
  },
  {
   "cell_type": "code",
   "execution_count": 24,
   "metadata": {},
   "outputs": [
    {
     "name": "stdout",
     "output_type": "stream",
     "text": [
      "[array([[0.06935138]], dtype=float32), array([[0.41755134]], dtype=float32), array([[0.01357748, 0.03189572, 0.04621665, 0.8240771 , 0.08423312]],\n",
      "      dtype=float32), array([[4.5605263e-04, 9.9954396e-01]], dtype=float32)]\n"
     ]
    }
   ],
   "source": [
    "X_predict=[]\n",
    "\n",
    "train_image = image.load_img('/trainindata/figure444.png', target_size = (32, 32))\n",
    "train_image = image.img_to_array(train_image)\n",
    "\n",
    "X_predict.append(train_image)\n",
    "X_predict_reshaped = np.asarray(X_predict).transpose(0,3,2,1)\n",
    "y_predict= model.predict(np.asarray(X_predict_reshaped))\n",
    "print(y_predict)"
   ]
  },
  {
   "cell_type": "code",
   "execution_count": 3,
   "metadata": {},
   "outputs": [
    {
     "data": {
      "text/html": [
       "<img src=\"images/figure444.png\",width=60,height=60>"
      ],
      "text/plain": [
       "<IPython.core.display.HTML object>"
      ]
     },
     "metadata": {},
     "output_type": "display_data"
    }
   ],
   "source": [
    "%%html\n",
    "<img src=\"images/figure444.png\",width=60,height=60>"
   ]
  },
  {
   "cell_type": "markdown",
   "metadata": {},
   "source": [
    "###### Predicted Trend"
   ]
  },
  {
   "cell_type": "code",
   "execution_count": 26,
   "metadata": {},
   "outputs": [
    {
     "data": {
      "text/plain": [
       "'Upward'"
      ]
     },
     "execution_count": 26,
     "metadata": {},
     "output_type": "execute_result"
    }
   ],
   "source": [
    "y_trend = np.argmax(y_predict[2])\n",
    "y_trend_result = trendEncoder.inverse_transform(y_trend)\n",
    "y_trend_result"
   ]
  },
  {
   "cell_type": "markdown",
   "metadata": {},
   "source": [
    "###### Predicted Month"
   ]
  },
  {
   "cell_type": "code",
   "execution_count": 27,
   "metadata": {},
   "outputs": [
    {
     "data": {
      "text/plain": [
       "'January'"
      ]
     },
     "execution_count": 27,
     "metadata": {},
     "output_type": "execute_result"
    }
   ],
   "source": [
    "y_month = np.argmax(y_predict[3])\n",
    "y_month_result = monthEncoder.inverse_transform(y_month)\n",
    "y_month_result"
   ]
  },
  {
   "cell_type": "markdown",
   "metadata": {},
   "source": [
    "###### Predicted Start Index"
   ]
  },
  {
   "cell_type": "code",
   "execution_count": 28,
   "metadata": {},
   "outputs": [
    {
     "data": {
      "text/plain": [
       "array([[19847.5]])"
      ]
     },
     "execution_count": 28,
     "metadata": {},
     "output_type": "execute_result"
    }
   ],
   "source": [
    "y_pred_start = np.argmax(y_predict[0])\n",
    "y_start_result =startScalar.inverse_transform(y_pred_start)\n",
    "y_start_result"
   ]
  },
  {
   "cell_type": "markdown",
   "metadata": {},
   "source": [
    "###### Actual Start Index"
   ]
  },
  {
   "cell_type": "code",
   "execution_count": 31,
   "metadata": {},
   "outputs": [
    {
     "data": {
      "text/plain": [
       "19857.5"
      ]
     },
     "execution_count": 31,
     "metadata": {},
     "output_type": "execute_result"
    }
   ],
   "source": [
    "y_start[443]"
   ]
  },
  {
   "cell_type": "markdown",
   "metadata": {},
   "source": [
    "###### Predicted End Index"
   ]
  },
  {
   "cell_type": "code",
   "execution_count": 30,
   "metadata": {},
   "outputs": [
    {
     "data": {
      "text/plain": [
       "array([[19963.896]], dtype=float32)"
      ]
     },
     "execution_count": 30,
     "metadata": {},
     "output_type": "execute_result"
    }
   ],
   "source": [
    "y_end_result =endScalar.inverse_transform(y_predict[1])\n",
    "y_end_result"
   ]
  },
  {
   "cell_type": "markdown",
   "metadata": {},
   "source": [
    "###### Actual End Index"
   ]
  },
  {
   "cell_type": "code",
   "execution_count": 32,
   "metadata": {},
   "outputs": [
    {
     "data": {
      "text/plain": [
       "19961.5"
      ]
     },
     "execution_count": 32,
     "metadata": {},
     "output_type": "execute_result"
    }
   ],
   "source": [
    "y_end[443]"
   ]
  },
  {
   "cell_type": "markdown",
   "metadata": {},
   "source": [
    "###### Actual Values"
   ]
  },
  {
   "cell_type": "markdown",
   "metadata": {},
   "source": [
    "Trend : Upward\n",
    "\n",
    "Month : January\n",
    "\n",
    "Start Index : 19857\n",
    "\n",
    "End Index : 19960"
   ]
  },
  {
   "cell_type": "markdown",
   "metadata": {},
   "source": [
    "###### Predicted Values "
   ]
  },
  {
   "cell_type": "markdown",
   "metadata": {},
   "source": [
    "Trend : Upward\n",
    "\n",
    "Month : January\n",
    "\n",
    "Start Index : 19840\n",
    "\n",
    "End Index : 19959"
   ]
  },
  {
   "cell_type": "markdown",
   "metadata": {},
   "source": [
    "##### Accuracy Graphs"
   ]
  },
  {
   "cell_type": "code",
   "execution_count": 28,
   "metadata": {
    "collapsed": true
   },
   "outputs": [],
   "source": [
    "def display_graph(acc, val_acc,loss, val_loss):\n",
    "    plt.clf()\n",
    "    epochs = range(len(acc))\n",
    "    plt.plot(epochs, acc, 'r', label='Training acc')\n",
    "    plt.plot(epochs, val_acc, 'g', label='Validation acc')\n",
    "    plt.title('Training and validation accuracy')\n",
    "    plt.legend()\n",
    "    plt.figure()\n",
    "    plt.plot(epochs, loss, 'r', label='Training loss')\n",
    "    plt.plot(epochs, val_loss, 'g', label='Validation loss')\n",
    "    plt.title('Training and validation loss')\n",
    "    plt.legend()\n",
    "    plt.show()"
   ]
  },
  {
   "cell_type": "markdown",
   "metadata": {},
   "source": [
    "###### Start Index Accuracy"
   ]
  },
  {
   "cell_type": "code",
   "execution_count": 29,
   "metadata": {},
   "outputs": [
    {
     "data": {
      "image/png": "[encoded data removed]",
      "text/plain": [
       "<matplotlib.figure.Figure at 0x1a413227f0>"
      ]
     },
     "metadata": {},
     "output_type": "display_data"
    },
    {
     "data": {
      "image/png": "[encoded data removed]",
      "text/plain": [
       "<matplotlib.figure.Figure at 0x1a45ae50f0>"
      ]
     },
     "metadata": {},
     "output_type": "display_data"
    }
   ],
   "source": [
    "acc = history.history['start_mean_squared_error']\n",
    "val_acc = history.history['val_start_mean_squared_error']\n",
    "loss = history.history['start_loss']\n",
    "val_loss = history.history['val_start_loss']\n",
    "\n",
    "display_graph(acc, val_acc,loss, val_loss)"
   ]
  },
  {
   "cell_type": "code",
   "execution_count": 30,
   "metadata": {},
   "outputs": [
    {
     "data": {
      "image/png": "[encoded data removed]",
      "text/plain": [
       "<matplotlib.figure.Figure at 0x1a45b61f98>"
      ]
     },
     "metadata": {},
     "output_type": "display_data"
    },
    {
     "data": {
      "image/png": "[encoded data removed]",
      "text/plain": [
       "<matplotlib.figure.Figure at 0x1a45cb2518>"
      ]
     },
     "metadata": {},
     "output_type": "display_data"
    }
   ],
   "source": [
    "acc = history.history['end_mean_squared_error']\n",
    "val_acc = history.history['val_end_mean_squared_error']\n",
    "loss = history.history['end_loss']\n",
    "val_loss = history.history['val_end_loss']\n",
    "\n",
    "display_graph(acc, val_acc,loss, val_loss)"
   ]
  },
  {
   "cell_type": "code",
   "execution_count": 31,
   "metadata": {},
   "outputs": [
    {
     "data": {
      "image/png": "[encoded data removed]",
      "text/plain": [
       "<matplotlib.figure.Figure at 0x1a45b21668>"
      ]
     },
     "metadata": {},
     "output_type": "display_data"
    },
    {
     "data": {
      "image/png": "[encoded data removed]",
      "text/plain": [
       "<matplotlib.figure.Figure at 0x1a45920668>"
      ]
     },
     "metadata": {},
     "output_type": "display_data"
    }
   ],
   "source": [
    "acc = history.history['trend_acc']\n",
    "val_acc = history.history['val_trend_acc']\n",
    "loss = history.history['trend_loss']\n",
    "val_loss = history.history['val_trend_loss']\n",
    "\n",
    "display_graph(acc, val_acc,loss, val_loss)"
   ]
  },
  {
   "cell_type": "code",
   "execution_count": 32,
   "metadata": {},
   "outputs": [
    {
     "data": {
      "image/png": "[encoded data removed]",
      "text/plain": [
       "<matplotlib.figure.Figure at 0x1a41183fd0>"
      ]
     },
     "metadata": {},
     "output_type": "display_data"
    },
    {
     "data": {
      "image/png": "[encoded data removed]",
      "text/plain": [
       "<matplotlib.figure.Figure at 0x1a412094e0>"
      ]
     },
     "metadata": {},
     "output_type": "display_data"
    }
   ],
   "source": [
    "acc = history.history['month_binary_accuracy']\n",
    "val_acc = history.history['val_month_binary_accuracy']\n",
    "loss = history.history['month_loss']\n",
    "val_loss = history.history['val_month_loss']\n",
    "\n",
    "display_graph(acc, val_acc,loss, val_loss)"
   ]
  },
  {
   "cell_type": "code",
   "execution_count": 34,
   "metadata": {
    "collapsed": true
   },
   "outputs": [],
   "source": [
    "import warnings\n",
    "warnings.filterwarnings('ignore')"
   ]
  },
  {
   "cell_type": "code",
   "execution_count": 37,
   "metadata": {},
   "outputs": [
    {
     "data": {
      "text/html": [
       "<img src=\"images/figure2444.png\",width=60,height=60>"
      ],
      "text/plain": [
       "<IPython.core.display.HTML object>"
      ]
     },
     "metadata": {},
     "output_type": "display_data"
    }
   ],
   "source": [
    "%%html\n",
    "<img src=\"images/figure2444.png\",width=60,height=60>"
   ]
  },
  {
   "cell_type": "code",
   "execution_count": 50,
   "metadata": {},
   "outputs": [
    {
     "data": {
      "text/plain": [
       "19951.2"
      ]
     },
     "execution_count": 50,
     "metadata": {},
     "output_type": "execute_result"
    }
   ],
   "source": [
    "y_end_val = endScalar.inverse_transform(y_predict[1])[0][0]\n",
    "y_end_result = np.around(y_end_val,decimals=2)\n",
    "y_end_val"
   ]
  },
  {
   "cell_type": "code",
   "execution_count": 33,
   "metadata": {},
   "outputs": [
    {
     "name": "stdout",
     "output_type": "stream",
     "text": [
      "In the month of January , there is a Downward trend from start index 19847.5 to end index 19880.17578125\n"
     ]
    },
    {
     "name": "stderr",
     "output_type": "stream",
     "text": [
      "/Users/Ram/anaconda/envs/Python3/lib/python3.5/site-packages/sklearn/preprocessing/label.py:151: DeprecationWarning: The truth value of an empty array is ambiguous. Returning False, but in future this will result in an error. Use `array.size > 0` to check that an array is not empty.\n",
      "  if diff:\n",
      "/Users/Ram/anaconda/envs/Python3/lib/python3.5/site-packages/sklearn/preprocessing/label.py:151: DeprecationWarning: The truth value of an empty array is ambiguous. Returning False, but in future this will result in an error. Use `array.size > 0` to check that an array is not empty.\n",
      "  if diff:\n"
     ]
    }
   ],
   "source": [
    "X_predict=[]\n",
    "\n",
    "train_image = image.load_img('/trainindata/figure2444.png', target_size = (32, 32))\n",
    "train_image = image.img_to_array(train_image)\n",
    "\n",
    "X_predict.append(train_image)\n",
    "X_predict_reshaped = np.asarray(X_predict).transpose(0,3,2,1)\n",
    "y_predict= model.predict(np.asarray(X_predict_reshaped))\n",
    "\n",
    "\n",
    "\n",
    "y_trend = np.argmax(y_predict[2])\n",
    "y_trend_result = trendEncoder.inverse_transform(y_trend)\n",
    "\n",
    "y_month = np.argmax(y_predict[3])\n",
    "y_month_result = monthEncoder.inverse_transform(y_month)\n",
    "\n",
    "y_pred_start = np.argmax(y_predict[0])\n",
    "y_start_result =startScalar.inverse_transform(y_pred_start)\n",
    "\n",
    "y_end_val = endScalar.inverse_transform(y_predict[1])[0][0]\n",
    "y_end_result = np.around(y_end_val,decimals=2)\n",
    "\n",
    "\n",
    "print(\"In the month of {} , there is a {} trend from start index {} to end index {}\".format(y_month_result,y_trend_result,y_start_result[0][0],\n",
    "                                                                                            y_end_val))"
   ]
  },
  {
   "cell_type": "code",
   "execution_count": 35,
   "metadata": {},
   "outputs": [
    {
     "name": "stdout",
     "output_type": "stream",
     "text": [
      "In the month of January , there is a Nochange trend from start index 19847.5 to end index 19842.19921875\n"
     ]
    }
   ],
   "source": [
    "X_predict=[]\n",
    "\n",
    "train_image = image.load_img('/trainindata/figure4444.png', target_size = (32, 32))\n",
    "train_image = image.img_to_array(train_image)\n",
    "\n",
    "X_predict.append(train_image)\n",
    "X_predict_reshaped = np.asarray(X_predict).transpose(0,3,2,1)\n",
    "y_predict= model.predict(np.asarray(X_predict_reshaped))\n",
    "\n",
    "\n",
    "\n",
    "y_trend = np.argmax(y_predict[2])\n",
    "y_trend_result = trendEncoder.inverse_transform(y_trend)\n",
    "\n",
    "y_month = np.argmax(y_predict[3])\n",
    "y_month_result = monthEncoder.inverse_transform(y_month)\n",
    "\n",
    "y_pred_start = np.argmax(y_predict[0])\n",
    "y_start_result =startScalar.inverse_transform(y_pred_start)\n",
    "\n",
    "#y_pred_end = np.argmax(y_predict[1])\n",
    "y_end_result = np.round(endScalar.inverse_transform(y_predict[1])[0][0], decimals=2)\n",
    "\n",
    "\n",
    "\n",
    "print(\"In the month of {} , there is a {} trend from start index {} to end index {}\".format(y_month_result,y_trend_result,y_start_result[0][0],\n",
    "                                                                                            y_end_result))"
   ]
  },
  {
   "cell_type": "code",
   "execution_count": 58,
   "metadata": {},
   "outputs": [
    {
     "name": "stdout",
     "output_type": "stream",
     "text": [
      "In the month of January , there is a Upward trend from start index 19847.5 to end index 19960.8203125\n"
     ]
    }
   ],
   "source": [
    "X_predict=[]\n",
    "\n",
    "train_image = image.load_img('/trainindata/figure6444.png', target_size = (32, 32))\n",
    "train_image = image.img_to_array(train_image)\n",
    "\n",
    "X_predict.append(train_image)\n",
    "X_predict_reshaped = np.asarray(X_predict).transpose(0,3,2,1)\n",
    "y_predict= model.predict(np.asarray(X_predict_reshaped))\n",
    "\n",
    "\n",
    "\n",
    "y_trend = np.argmax(y_predict[2])\n",
    "y_trend_result = trendEncoder.inverse_transform(y_trend)\n",
    "\n",
    "y_month = np.argmax(y_predict[3])\n",
    "y_month_result = monthEncoder.inverse_transform(y_month)\n",
    "\n",
    "y_pred_start = np.argmax(y_predict[0])\n",
    "y_start_result =startScalar.inverse_transform(y_pred_start)\n",
    "\n",
    "#y_pred_end = np.argmax(y_predict[1])\n",
    "y_end_result = np.round(endScalar.inverse_transform(y_predict[1])[0][0], decimals=2)\n",
    "\n",
    "\n",
    "\n",
    "print(\"In the month of {} , there is a {} trend from start index {} to end index {}\".format(y_month_result,y_trend_result,y_start_result[0][0],\n",
    "                                                                                            y_end_result))"
   ]
  },
  {
   "cell_type": "code",
   "execution_count": 36,
   "metadata": {},
   "outputs": [
    {
     "name": "stdout",
     "output_type": "stream",
     "text": [
      "In the month of January , there is a DownwardUpward trend from start index 19847.5 to end index 19976.80078125\n"
     ]
    }
   ],
   "source": [
    "X_predict=[]\n",
    "\n",
    "train_image = image.load_img('/trainindata//figure8444.png', target_size = (32, 32))\n",
    "train_image = image.img_to_array(train_image)\n",
    "\n",
    "X_predict.append(train_image)\n",
    "X_predict_reshaped = np.asarray(X_predict).transpose(0,3,2,1)\n",
    "y_predict= model.predict(np.asarray(X_predict_reshaped))\n",
    "\n",
    "\n",
    "\n",
    "y_trend = np.argmax(y_predict[2])\n",
    "y_trend_result = trendEncoder.inverse_transform(y_trend)\n",
    "\n",
    "y_month = np.argmax(y_predict[3])\n",
    "y_month_result = monthEncoder.inverse_transform(y_month)\n",
    "\n",
    "y_pred_start = np.argmax(y_predict[0])\n",
    "y_start_result =startScalar.inverse_transform(y_pred_start)\n",
    "\n",
    "#y_pred_end = np.argmax(y_predict[1])\n",
    "y_end_result = np.round(endScalar.inverse_transform(y_predict[1])[0][0], decimals=2)\n",
    "\n",
    "\n",
    "\n",
    "print(\"In the month of {} , there is a {} trend from start index {} to end index {}\".format(y_month_result,y_trend_result,y_start_result[0][0],\n",
    "                                                                                            y_end_result))"
   ]
  },
  {
   "cell_type": "code",
   "execution_count": 37,
   "metadata": {},
   "outputs": [
    {
     "name": "stdout",
     "output_type": "stream",
     "text": [
      "In the month of February , there is a Upward trend from start index 19847.5 to end index 19942.619140625\n"
     ]
    }
   ],
   "source": [
    "X_predict=[]\n",
    "\n",
    "train_image = image.load_img('/trainindata/figure10444.png', target_size = (32, 32))\n",
    "train_image = image.img_to_array(train_image)\n",
    "\n",
    "X_predict.append(train_image)\n",
    "X_predict_reshaped = np.asarray(X_predict).transpose(0,3,2,1)\n",
    "y_predict= model.predict(np.asarray(X_predict_reshaped))\n",
    "\n",
    "\n",
    "\n",
    "y_trend = np.argmax(y_predict[2])\n",
    "y_trend_result = trendEncoder.inverse_transform(y_trend)\n",
    "\n",
    "y_month = np.argmax(y_predict[3])\n",
    "y_month_result = monthEncoder.inverse_transform(y_month)\n",
    "\n",
    "y_pred_start = np.argmax(y_predict[0])\n",
    "y_start_result =startScalar.inverse_transform(y_pred_start)\n",
    "\n",
    "#y_pred_end = np.argmax(y_predict[1])\n",
    "y_end_result = np.round(endScalar.inverse_transform(y_predict[1])[0][0], decimals=2)\n",
    "\n",
    "\n",
    "\n",
    "print(\"In the month of {} , there is a {} trend from start index {} to end index {}\".format(y_month_result,y_trend_result,y_start_result[0][0],\n",
    "                                                                                            y_end_result))"
   ]
  },
  {
   "cell_type": "code",
   "execution_count": 38,
   "metadata": {},
   "outputs": [
    {
     "name": "stdout",
     "output_type": "stream",
     "text": [
      "In the month of February , there is a UpwardDownward trend from start index 19847.5 to end index 19858.060546875\n"
     ]
    }
   ],
   "source": [
    "X_predict=[]\n",
    "\n",
    "train_image = image.load_img('/trainindata/figure16444.png', target_size = (32, 32))\n",
    "train_image = image.img_to_array(train_image)\n",
    "\n",
    "X_predict.append(train_image)\n",
    "X_predict_reshaped = np.asarray(X_predict).transpose(0,3,2,1)\n",
    "y_predict= model.predict(np.asarray(X_predict_reshaped))\n",
    "\n",
    "\n",
    "\n",
    "y_trend = np.argmax(y_predict[2])\n",
    "y_trend_result = trendEncoder.inverse_transform(y_trend)\n",
    "\n",
    "y_month = np.argmax(y_predict[3])\n",
    "y_month_result = monthEncoder.inverse_transform(y_month)\n",
    "\n",
    "y_pred_start = np.argmax(y_predict[0])\n",
    "y_start_result =startScalar.inverse_transform(y_pred_start)\n",
    "\n",
    "#y_pred_end = np.argmax(y_predict[1])\n",
    "y_end_result = np.round(endScalar.inverse_transform(y_predict[1])[0][0], decimals=2)\n",
    "\n",
    "\n",
    "\n",
    "print(\"In the month of {} , there is a {} trend from start index {} to end index {}\".format(y_month_result,y_trend_result,y_start_result[0][0],\n",
    "                                                                                            y_end_result))"
   ]
  },
  {
   "cell_type": "code",
   "execution_count": 62,
   "metadata": {},
   "outputs": [
    {
     "name": "stdout",
     "output_type": "stream",
     "text": [
      "In the month of February , there is a DownwardUpward trend from start index 19847.5 to end index 20102.19921875\n"
     ]
    }
   ],
   "source": [
    "X_predict=[]\n",
    "\n",
    "train_image = image.load_img('/trainindata/figure18444.png', target_size = (32, 32))\n",
    "train_image = image.img_to_array(train_image)\n",
    "\n",
    "X_predict.append(train_image)\n",
    "X_predict_reshaped = np.asarray(X_predict).transpose(0,3,2,1)\n",
    "y_predict= model.predict(np.asarray(X_predict_reshaped))\n",
    "\n",
    "\n",
    "\n",
    "y_trend = np.argmax(y_predict[2])\n",
    "y_trend_result = trendEncoder.inverse_transform(y_trend)\n",
    "\n",
    "y_month = np.argmax(y_predict[3])\n",
    "y_month_result = monthEncoder.inverse_transform(y_month)\n",
    "\n",
    "y_pred_start = np.argmax(y_predict[0])\n",
    "y_start_result =startScalar.inverse_transform(y_pred_start)\n",
    "\n",
    "#y_pred_end = np.argmax(y_predict[1])\n",
    "y_end_result = np.round(endScalar.inverse_transform(y_predict[1])[0][0], decimals=2)\n",
    "\n",
    "\n",
    "\n",
    "print(\"In the month of {} , there is a {} trend from start index {} to end index {}\".format(y_month_result,y_trend_result,y_start_result[0][0],\n",
    "                                                                                            y_end_result))"
   ]
  },
  {
   "cell_type": "code",
   "execution_count": null,
   "metadata": {
    "collapsed": true
   },
   "outputs": [],
   "source": []
  }
 ],
 "metadata": {
  "kernelspec": {
   "display_name": "Python 3",
   "language": "python",
   "name": "python3"
  },
  "language_info": {
   "codemirror_mode": {
    "name": "ipython",
    "version": 3
   },
   "file_extension": ".py",
   "mimetype": "text/x-python",
   "name": "python",
   "nbconvert_exporter": "python",
   "pygments_lexer": "ipython3",
   "version": "3.5.5"
  }
 },
 "nbformat": 4,
 "nbformat_minor": 2
}
