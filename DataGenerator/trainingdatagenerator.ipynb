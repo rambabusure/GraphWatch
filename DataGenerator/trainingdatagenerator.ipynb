{
 "cells": [
  {
   "cell_type": "code",
   "execution_count": null,
   "metadata": {
    "collapsed": true
   },
   "outputs": [],
   "source": [
    "import datetime as datetime\n",
    "import numpy as np\n",
    "import matplotlib.pyplot as plt\n",
    "import matplotlib.dates as mdates\n",
    "import datetime as datetime\n",
    "import calendar"
   ]
  },
  {
   "cell_type": "code",
   "execution_count": 7,
   "metadata": {},
   "outputs": [],
   "source": [
    "from calendar import monthrange"
   ]
  },
  {
   "cell_type": "code",
   "execution_count": 8,
   "metadata": {
    "collapsed": true
   },
   "outputs": [],
   "source": [
    "def getmonthdays(year,month_idx):\n",
    "    return monthrange(year,month_idx)[1]       "
   ]
  },
  {
   "cell_type": "code",
   "execution_count": 9,
   "metadata": {},
   "outputs": [
    {
     "data": {
      "text/plain": [
       "28"
      ]
     },
     "execution_count": 9,
     "metadata": {},
     "output_type": "execute_result"
    }
   ],
   "source": [
    "getmonthdays(2011,2)"
   ]
  },
  {
   "cell_type": "code",
   "execution_count": 10,
   "metadata": {
    "collapsed": true
   },
   "outputs": [],
   "source": [
    "# Generate the array of values with upward direction\n",
    "def get_upward_index_data(startindex, month_idx):\n",
    "    y=list()\n",
    "    date_list =list()\n",
    "    for date_range in range(int(getmonthdays(2017,month_idx))):\n",
    "        date_list.append(datetime.datetime(2017,month,1)+datetime.timedelta(days=1*date_range))\n",
    "        if date_range>0:\n",
    "            #print(date_range)\n",
    "            index_val = y[date_range-1] + 8.5- np.random.randint(1,10)\n",
    "            y.append(index_val)\n",
    "        else:\n",
    "            index_val = startindex + 10.5- np.random.randint(1,5)\n",
    "            y.append(index_val)\n",
    "    return date_list, y"
   ]
  },
  {
   "cell_type": "code",
   "execution_count": null,
   "metadata": {
    "collapsed": true
   },
   "outputs": [],
   "source": [
    "# Generate the array of values with downward direction\n",
    "def get_downward_index_data(startindex, month):\n",
    "    y=list()\n",
    "    date_list =list()\n",
    "    for date_range in range(int(getmonthdays(month_idx))):\n",
    "        date_list.append(datetime.datetime(2017,month,1)+datetime.timedelta(days=1*date_range))\n",
    "        if date_range>0:\n",
    "            index_val = y[date_range-1] - 8.5 +np.random.randint(1,10)\n",
    "            y.append(index_val)\n",
    "        else:\n",
    "            index_val = startindex - 10.5- np.random.randint(1,5)\n",
    "            y.append(index_val)\n",
    "    \n",
    "    return date_list,y"
   ]
  },
  {
   "cell_type": "code",
   "execution_count": null,
   "metadata": {
    "collapsed": true
   },
   "outputs": [],
   "source": [
    "def get_constant_index_data(startindex, month):\n",
    "    y=list()\n",
    "    date_list =list()\n",
    "    for date_range in range(int(getmonthdays(month_idx))):\n",
    "        date_list.append(datetime.datetime(2017,month,1)+datetime.timedelta(days=1*date_range))\n",
    "        if date_range>0:\n",
    "            index_val = y[date_range-1] - 1.5 +np.random.randint(1,5)\n",
    "            y.append(index_val)\n",
    "        else:\n",
    "            index_val = startindex + 1.5- np.random.randint(1,5)\n",
    "            y.append(index_val)\n",
    "    return date_list,y"
   ]
  },
  {
   "cell_type": "code",
   "execution_count": null,
   "metadata": {
    "collapsed": true
   },
   "outputs": [],
   "source": [
    "def get_upward_downward_index_data(startindex, month_idx):\n",
    "    y=list()\n",
    "    date_list =list()\n",
    "    for date_range in range(int(getmonthdays(month_idx)/2)+1):\n",
    "        #print(date_range)\n",
    "        date_list.append(datetime.datetime(2017,month,1)+datetime.timedelta(days=1*date_range))\n",
    "        if date_range>0:\n",
    "            index_val = y[date_range-1] + 10.5 -np.random.randint(1,8)\n",
    "            y.append(index_val)\n",
    "        else:\n",
    "            index_val = startindex + 10.5- np.random.randint(1,5)\n",
    "            y.append(index_val)\n",
    "    for date_range in range(int(getmonthdays(month_idx)/2)+1,int(getmonthdays(month_idx))):\n",
    "        date_list.append(datetime.datetime(2017,month,1)+datetime.timedelta(days=1*date_range))\n",
    "        #print(date_range)\n",
    "        index_val = y[date_range-1] - 8.5 +np.random.randint(1,5)\n",
    "        y.append(index_val)\n",
    "        \n",
    "    return date_list,y"
   ]
  },
  {
   "cell_type": "code",
   "execution_count": null,
   "metadata": {
    "collapsed": true
   },
   "outputs": [],
   "source": [
    "def get_downward_upward_index_data(startindex, month_idx):\n",
    "    y = list()\n",
    "    date_list =list()\n",
    "    for date_range in range(int(getmonthdays(month_idx)/2)+1):\n",
    "        date_list.append(datetime.datetime(2017,month,1)+datetime.timedelta(days=1*date_range))\n",
    "        if date_range>0:\n",
    "            index_val = y[date_range-1] - 10.5 +np.random.randint(1,8)\n",
    "            y.append(index_val)\n",
    "        else:\n",
    "            index_val = startindex - 10.5 + np.random.randint(1,5)\n",
    "            y.append(index_val)\n",
    "    for date_range in range(int(getmonthdays(month_idx)/2)+1,int(getmonthdays(month_idx))):\n",
    "        date_list.append(datetime.datetime(2017,month,1)+datetime.timedelta(days=1*date_range))\n",
    "        index_val = y[date_range-1] + 8.5 -np.random.randint(1,8)\n",
    "        y.append(index_val)\n",
    "        \n",
    "    return date_list,y"
   ]
  },
  {
   "cell_type": "code",
   "execution_count": null,
   "metadata": {
    "collapsed": true
   },
   "outputs": [],
   "source": [
    "def save_graph(date_list,y,figcnt,ylimstart, ylimend, monthname, month_idx):\n",
    "    plt.ioff()\n",
    "    plt.close('all')\n",
    "    #et the locator\n",
    "    locator = mdates.DayLocator()  # every day\n",
    "    # Specify the format - %b gives us Jan, Feb...\n",
    "    fmt = mdates.DateFormatter('%d')\n",
    "    fig = plt.figure()\n",
    "    plt.plot(date_list,y)\n",
    "    X = plt.gca().xaxis\n",
    "    X.set_major_locator(locator)\n",
    "    # Specify formatter\n",
    "    X.set_major_formatter(fmt)\n",
    "    firsts=[]\n",
    "    for i in range(1,int(getmonthdays(month_idx))):\n",
    "        firsts.append(datetime.datetime(2017,month_idx,i)) \n",
    "    #firsts.append(i)\n",
    "    plt.xticks(firsts)\n",
    "    plt.title(monthname)\n",
    "    plt.ylim(ylimstart, ylimend)\n",
    "    plt.figure(figsize=(10,10))\n",
    "    fig.savefig('/trainingdata/figure{}.png'.format(figcnt))\n",
    "    #plt.show()\n",
    "    plt.clf()"
   ]
  },
  {
   "cell_type": "code",
   "execution_count": null,
   "metadata": {
    "collapsed": true
   },
   "outputs": [],
   "source": [
    "def get_monthly_details(month_idx):\n",
    "    monthname =  calendar.month_name[month_idx]\n",
    "    if(month_idx==1):\n",
    "        startindex = 19850\n",
    "        lastindex = 20050\n",
    "    elif (month_idx==2):\n",
    "        startindex = 19850\n",
    "        lastindex = 20150\n",
    "    elif (month_idx==3):\n",
    "        startindex = 19850\n",
    "        lastindex = 20050\n",
    "    return monthname,startindex, lastindex"
   ]
  },
  {
   "cell_type": "code",
   "execution_count": null,
   "metadata": {
    "collapsed": true
   },
   "outputs": [],
   "source": [
    "y_trend = []\n",
    "y_month = []\n",
    "y_startindex =[]\n",
    "y_endindex = []\n",
    "figcnt =10000\n",
    "for month_idx in range(1,3):\n",
    "    monthname,startindex,lastindex = get_monthly_details(month_idx) \n",
    "    for graphcnt in np.arange(0,2000):\n",
    "        figcnt=  figcnt+1\n",
    "        date_list,y = get_upward_index_data(startindex,month_idx)\n",
    "        save_graph(date_list,y,figcnt,startindex,lastindex,monthname,month_idx)\n",
    "        y_month.append(monthname)\n",
    "        y_trend.append(\"Upward\")\n",
    "        y_startindex.append(y[0])\n",
    "        y_endindex.append(y[-1])\n",
    "    for graphcnt in np.arange(0,2000):\n",
    "        figcnt=  figcnt+1\n",
    "        date_list,y = get_downward_index_data(lastindex,month_idx)\n",
    "        save_graph(date_list,y,figcnt, startindex,lastindex,monthname,month_idx)\n",
    "        y_month.append(monthname)\n",
    "        y_trend.append(\"Downward\")\n",
    "        y_startindex.append(y[0])\n",
    "        y_endindex.append(y[-1])\n",
    "    for graphcnt in np.arange(0,2000):\n",
    "        figcnt=  figcnt+1\n",
    "        date_list,y = get_constant_index_data(startindex,month_idx)\n",
    "        save_graph(date_list,y,figcnt, startindex,lastindex,monthname,month_idx)\n",
    "        y_month.append(monthname)\n",
    "        y_trend.append(\"Nochange\")\n",
    "        y_startindex.append(y[0])\n",
    "        y_endindex.append(y[-1])\n",
    "  \n",
    "    for graphcnt in np.arange(0,2000):\n",
    "        figcnt=  figcnt+1\n",
    "        date_list,y = get_upward_downward_index_data(startindex,month_idx)\n",
    "        save_graph(date_list,y,figcnt, startindex,lastindex,monthname,month_idx)\n",
    "        y_month.append(monthname)\n",
    "        y_trend.append(\"UpwardDownward\")\n",
    "        y_startindex.append(y[0])\n",
    "        y_endindex.append(y[-1])\n",
    "  \n",
    "    for graphcnt in np.arange(0,2000):\n",
    "        figcnt=  figcnt+1\n",
    "        date_list,y = get_downward_upward_index_data(lastindex,month_idx)\n",
    "        save_graph(date_list,y,figcnt, startindex,lastindex,monthname,month_idx)\n",
    "        y_month.append(monthname)\n",
    "        y_trend.append(\"DownwardUpward\")\n",
    "        y_startindex.append(y[0])\n",
    "        y_endindex.append(y[-1])\n",
    "                             "
   ]
  },
  {
   "cell_type": "code",
   "execution_count": null,
   "metadata": {
    "collapsed": true
   },
   "outputs": [],
   "source": [
    "np.savetxt(\"/trainingdata/y_trend.txt\", y_trend,fmt='%s')\n",
    "np.savetxt(\"/trainingdata/y_month.txt\", y_month,fmt='%s')\n",
    "np.savetxt(\"/trainingdata//y_start.txt\", y_startindex,fmt='%1.3f')\n",
    "np.savetxt(\"/trainingdata//y_end.txt\", y_endindex,fmt='%1.3f')  "
   ]
  }
 ],
 "metadata": {
  "kernelspec": {
   "display_name": "Python 3",
   "language": "python",
   "name": "python3"
  },
  "language_info": {
   "codemirror_mode": {
    "name": "ipython",
    "version": 3
   },
   "file_extension": ".py",
   "mimetype": "text/x-python",
   "name": "python",
   "nbconvert_exporter": "python",
   "pygments_lexer": "ipython3",
   "version": "3.5.5"
  }
 },
 "nbformat": 4,
 "nbformat_minor": 2
}
